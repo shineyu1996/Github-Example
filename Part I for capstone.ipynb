{
 "cells": [
  {
   "cell_type": "markdown",
   "metadata": {},
   "source": [
    "# **Capstone Project**-Chinese Restaurant in Toronto"
   ]
  },
  {
   "cell_type": "markdown",
   "metadata": {},
   "source": [
    "## Introduction/Business Problem"
   ]
  },
  {
   "cell_type": "markdown",
   "metadata": {},
   "source": [
    "#### This report will try to find the optimal location for a Chinese Restaurant in Toronto. The location will avoid those who are already crowded with the same style (Chinese) restaurants and will be as close to the city center as possible."
   ]
  },
  {
   "cell_type": "markdown",
   "metadata": {},
   "source": [
    "## Data"
   ]
  },
  {
   "cell_type": "markdown",
   "metadata": {},
   "source": [
    "#### To solve the problem, Foursquare API will be used to find and deal with the data. The data I will use for this report are following:\n",
    "\n",
    "1.Numbers of existing restaurants in the neighborhoods\n",
    "\n",
    "2.Number of Chinsese restaurants in the neighborhoods\n",
    "\n",
    "3.Distance of Chinese restaurants in the neighborhoods\n",
    "\n",
    "4.Distance of neighborhoods from city center"
   ]
  },
  {
   "cell_type": "markdown",
   "metadata": {},
   "source": [
    "### Data prepared - Foursquare"
   ]
  },
  {
   "cell_type": "markdown",
   "metadata": {},
   "source": [
    "##### Since \"Food\" category includes various kinds of restaurants, such as coffee shops, pizza restaurants, fast food, etc., the venues of \"food\" need to wipe out all other kinds of food places but restaurants, especially Chinese restaurants."
   ]
  },
  {
   "cell_type": "code",
   "execution_count": null,
   "metadata": {},
   "outputs": [],
   "source": []
  }
 ],
 "metadata": {
  "kernelspec": {
   "display_name": "Python 3",
   "language": "python",
   "name": "python3"
  },
  "language_info": {
   "codemirror_mode": {
    "name": "ipython",
    "version": 3
   },
   "file_extension": ".py",
   "mimetype": "text/x-python",
   "name": "python",
   "nbconvert_exporter": "python",
   "pygments_lexer": "ipython3",
   "version": "3.6.7"
  }
 },
 "nbformat": 4,
 "nbformat_minor": 2
}
